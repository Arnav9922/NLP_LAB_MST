{
 "cells": [
  {
   "cell_type": "code",
   "execution_count": 128,
   "id": "2c6a42e7-71f4-4d5a-bcc8-2e4d3f181862",
   "metadata": {},
   "outputs": [
    {
     "name": "stderr",
     "output_type": "stream",
     "text": [
      "[nltk_data] Downloading package punkt to\n",
      "[nltk_data]     /Users/macbookair/nltk_data...\n",
      "[nltk_data]   Package punkt is already up-to-date!\n",
      "[nltk_data] Downloading package wordnet to\n",
      "[nltk_data]     /Users/macbookair/nltk_data...\n",
      "[nltk_data]   Package wordnet is already up-to-date!\n",
      "[nltk_data] Downloading package stopwords to\n",
      "[nltk_data]     /Users/macbookair/nltk_data...\n",
      "[nltk_data]   Package stopwords is already up-to-date!\n"
     ]
    },
    {
     "data": {
      "text/plain": [
       "True"
      ]
     },
     "execution_count": 128,
     "metadata": {},
     "output_type": "execute_result"
    }
   ],
   "source": [
    "import nltk\n",
    "from nltk.tokenize import word_tokenize\n",
    "from nltk.stem import WordNetLemmatizer\n",
    "from nltk.corpus import stopwords\n",
    "from nltk.tokenize import RegexpTokenizer\n",
    "from nltk.tokenize import sent_tokenize\n",
    "from nltk.probability import FreqDist\n",
    "nltk.download('punkt')\n",
    "nltk.download('wordnet')\n",
    "nltk.download('stopwords')\n",
    "\n"
   ]
  },
  {
   "cell_type": "code",
   "execution_count": 137,
   "id": "04316c9f-1094-48b1-a77a-e8292afa6bb2",
   "metadata": {},
   "outputs": [],
   "source": [
    "\n",
    "story = \"\"\"\n",
    "Once upon a time in village of Willowbrook, there lived a young girl named Elara. Elara had always been fascinated by the mysterious old oak tree that stood at the edge of the village. Its gnarled branches twisted into intricate patterns against the sky, and its trunk seemed to hold secrets of centuries past.\n",
    "\n",
    "Elara's curiosity about the oak tree only deepened when strange occurrences began to happen in Willowbrook. People whispered of whispered voices in the night, of flickering lights dancing among the branches, and of dreams that seemed to come alive under the tree's canopy. Some even claimed to have seen figures moving among the shadows, though none could say for certain what they were.\n",
    "\n",
    "Determined to uncover the truth, Elara set out one evening to the oak tree, her heart pounding with excitement and apprehension. As she approached, a gentle breeze rustled through the leaves, and she felt a sense of anticipation in the air. With each step, the world around her seemed to blur, and she found herself standing beneath the ancient tree's towering branches.\n",
    "\n",
    "Suddenly, a voice spoke from the darkness, soft and melodic like the whisper of the wind. \"Welcome, Elara,\" it said, \"to the realm of the Oakheart.\"\n",
    "\n",
    "Startled but undeterred, Elara looked around, trying to locate the source of the voice. \"Who are you?\" she asked, her voice trembling slightly.\n",
    "\n",
    "\"We are the guardians of the oak tree,\" the voice replied, its tone soothing and reassuring. \"We have watched over Willowbrook for generations, protecting its inhabitants from harm and guiding them in times of need.\"\n",
    "\n",
    "Elara listened intently as the guardians spoke of the tree's ancient magic, of the bond that connected it to the land and its people. They spoke of the balance that must be maintained, of the harmony between the natural world and the forces beyond. And they spoke of the darkness that threatened to disrupt that balance, of a shadowy presence that sought to destroy all that they held dear.\n",
    "\n",
    "Determined to aid the guardians in their quest, Elara pledged her loyalty to their cause. Together, they worked tirelessly to unravel the mysteries of the oak tree, to uncover the source of the darkness that threatened their home. Along the way, they faced countless challenges and obstacles, but with each trial, their bond grew stronger, their resolve unshakable.\n",
    "\n",
    "In the end, it was Elara's courage and determination that saved Willowbrook from the encroaching darkness. With the help of the guardians, she confronted the shadowy presence head-on, driving it back into the depths from whence it came. And as the first light of dawn broke over the horizon, the villagers emerged from their homes, their faces aglow with hope and gratitude.\n",
    "\n",
    "From that day forward, Elara was hailed as a hero, her name whispered in awe and reverence throughout the land. But for her, the greatest reward was knowing that she had helped protect the place she called home, that she had played a part in preserving the ancient magic of the oak tree for generations to come. And as she stood beneath its branches once more, she felt a sense of peace and belonging wash over her, knowing that she would always be a part of the heart of the oak.\n",
    "\"\"\"\n"
   ]
  },
  {
   "cell_type": "code",
   "execution_count": 138,
   "id": "f1a8efce-4c11-4097-adbe-709ff1410763",
   "metadata": {},
   "outputs": [],
   "source": [
    "\n",
    "tokens = word_tokenize(story)"
   ]
  },
  {
   "cell_type": "code",
   "execution_count": 139,
   "id": "29e23df4-2a1b-483d-ad47-8d84e67c21e4",
   "metadata": {},
   "outputs": [
    {
     "name": "stdout",
     "output_type": "stream",
     "text": [
      "Original Tokens: ['Once', 'upon', 'a', 'time', 'in', 'village', 'of', 'Willowbrook', ',', 'there', 'lived', 'a', 'young', 'girl', 'named', 'Elara', '.', 'Elara', 'had', 'always']\n",
      "\n",
      "Lemmatized Tokens: ['Once', 'upon', 'a', 'time', 'in', 'the', 'quaint', 'village', 'of', 'Willowbrook', ',', 'nestled', 'between', 'rolling', 'hill', 'and', 'lush', 'forest', ',', 'there']\n"
     ]
    }
   ],
   "source": [
    "lemmatizer = WordNetLemmatizer()\n",
    "lemmatize_tokens = [lemmatizer.lemmatize(token) for token in tokens]\n",
    "print(\"Original Tokens:\", tokens[:20])\n",
    "print(\"\\nLemmatized Tokens:\", lemmatized_tokens[:20])"
   ]
  },
  {
   "cell_type": "code",
   "execution_count": 140,
   "id": "489745cc-59a8-4281-a9cc-1ab89a6d940e",
   "metadata": {},
   "outputs": [
    {
     "name": "stdout",
     "output_type": "stream",
     "text": [
      "Sentence 1: \n",
      "Once upon a time in village of Willowbrook, there lived a young girl named Elara.\n",
      "\n",
      "Sentence 2: Elara had always been fascinated by the mysterious old oak tree that stood at the edge of the village.\n",
      "\n",
      "Sentence 3: Its gnarled branches twisted into intricate patterns against the sky, and its trunk seemed to hold secrets of centuries past.\n",
      "\n",
      "Sentence 4: Elara's curiosity about the oak tree only deepened when strange occurrences began to happen in Willowbrook.\n",
      "\n",
      "Sentence 5: People whispered of whispered voices in the night, of flickering lights dancing among the branches, and of dreams that seemed to come alive under the tree's canopy.\n",
      "\n",
      "Sentence 6: Some even claimed to have seen figures moving among the shadows, though none could say for certain what they were.\n",
      "\n",
      "Sentence 7: Determined to uncover the truth, Elara set out one evening to the oak tree, her heart pounding with excitement and apprehension.\n",
      "\n",
      "Sentence 8: As she approached, a gentle breeze rustled through the leaves, and she felt a sense of anticipation in the air.\n",
      "\n",
      "Sentence 9: With each step, the world around her seemed to blur, and she found herself standing beneath the ancient tree's towering branches.\n",
      "\n",
      "Sentence 10: Suddenly, a voice spoke from the darkness, soft and melodic like the whisper of the wind.\n",
      "\n",
      "Sentence 11: \"Welcome, Elara,\" it said, \"to the realm of the Oakheart.\"\n",
      "\n",
      "Sentence 12: Startled but undeterred, Elara looked around, trying to locate the source of the voice.\n",
      "\n",
      "Sentence 13: \"Who are you?\"\n",
      "\n",
      "Sentence 14: she asked, her voice trembling slightly.\n",
      "\n",
      "Sentence 15: \"We are the guardians of the oak tree,\" the voice replied, its tone soothing and reassuring.\n",
      "\n",
      "Sentence 16: \"We have watched over Willowbrook for generations, protecting its inhabitants from harm and guiding them in times of need.\"\n",
      "\n",
      "Sentence 17: Elara listened intently as the guardians spoke of the tree's ancient magic, of the bond that connected it to the land and its people.\n",
      "\n",
      "Sentence 18: They spoke of the balance that must be maintained, of the harmony between the natural world and the forces beyond.\n",
      "\n",
      "Sentence 19: And they spoke of the darkness that threatened to disrupt that balance, of a shadowy presence that sought to destroy all that they held dear.\n",
      "\n",
      "Sentence 20: Determined to aid the guardians in their quest, Elara pledged her loyalty to their cause.\n",
      "\n",
      "Sentence 21: Together, they worked tirelessly to unravel the mysteries of the oak tree, to uncover the source of the darkness that threatened their home.\n",
      "\n",
      "Sentence 22: Along the way, they faced countless challenges and obstacles, but with each trial, their bond grew stronger, their resolve unshakable.\n",
      "\n",
      "Sentence 23: In the end, it was Elara's courage and determination that saved Willowbrook from the encroaching darkness.\n",
      "\n",
      "Sentence 24: With the help of the guardians, she confronted the shadowy presence head-on, driving it back into the depths from whence it came.\n",
      "\n",
      "Sentence 25: And as the first light of dawn broke over the horizon, the villagers emerged from their homes, their faces aglow with hope and gratitude.\n",
      "\n",
      "Sentence 26: From that day forward, Elara was hailed as a hero, her name whispered in awe and reverence throughout the land.\n",
      "\n",
      "Sentence 27: But for her, the greatest reward was knowing that she had helped protect the place she called home, that she had played a part in preserving the ancient magic of the oak tree for generations to come.\n",
      "\n",
      "Sentence 28: And as she stood beneath its branches once more, she felt a sense of peace and belonging wash over her, knowing that she would always be a part of the heart of the oak.\n",
      "\n"
     ]
    }
   ],
   "source": [
    "sentences = sent_tokenize(story)\n",
    "for i, sentence in enumerate(sentences):\n",
    "    print(f\"Sentence {i + 1}: {sentence}\\n\")\n"
   ]
  },
  {
   "cell_type": "code",
   "execution_count": 144,
   "id": "1098c73a-1df3-4dbb-8fb3-a2fd904bb378",
   "metadata": {},
   "outputs": [
    {
     "name": "stdout",
     "output_type": "stream",
     "text": [
      "Once upon a time in village of Willowbrook there lived a young girl named Elara Elara had always been fascinated by the mysterious old oak tree that stood at the edge of the village Its gnarled branches twisted into intricate patterns against the sky and its trunk seemed to hold secrets of centuries past Elara s curiosity about the oak tree only deepened when strange occurrences began to happen in Willowbrook People whispered of whispered voices in the night of flickering lights dancing among the branches and of dreams that seemed to come alive under the tree s canopy Some even claimed to have seen figures moving among the shadows though none could say for certain what they were Determined to uncover the truth Elara set out one evening to the oak tree her heart pounding with excitement and apprehension As she approached a gentle breeze rustled through the leaves and she felt a sense of anticipation in the air With each step the world around her seemed to blur and she found herself standing beneath the ancient tree s towering branches Suddenly a voice spoke from the darkness soft and melodic like the whisper of the wind Welcome Elara it said to the realm of the Oakheart Startled but undeterred Elara looked around trying to locate the source of the voice Who are you she asked her voice trembling slightly We are the guardians of the oak tree the voice replied its tone soothing and reassuring We have watched over Willowbrook for generations protecting its inhabitants from harm and guiding them in times of need Elara listened intently as the guardians spoke of the tree s ancient magic of the bond that connected it to the land and its people They spoke of the balance that must be maintained of the harmony between the natural world and the forces beyond And they spoke of the darkness that threatened to disrupt that balance of a shadowy presence that sought to destroy all that they held dear Determined to aid the guardians in their quest Elara pledged her loyalty to their cause Together they worked tirelessly to unravel the mysteries of the oak tree to uncover the source of the darkness that threatened their home Along the way they faced countless challenges and obstacles but with each trial their bond grew stronger their resolve unshakable In the end it was Elara s courage and determination that saved Willowbrook from the encroaching darkness With the help of the guardians she confronted the shadowy presence head on driving it back into the depths from whence it came And as the first light of dawn broke over the horizon the villagers emerged from their homes their faces aglow with hope and gratitude From that day forward Elara was hailed as a hero her name whispered in awe and reverence throughout the land But for her the greatest reward was knowing that she had helped protect the place she called home that she had played a part in preserving the ancient magic of the oak tree for generations to come And as she stood beneath its branches once more she felt a sense of peace and belonging wash over her knowing that she would always be a part of the heart of the oak\n"
     ]
    }
   ],
   "source": [
    "tokenizer = RegexpTokenizer(r'\\w+')\n",
    "tokens = tokenizer.tokenize(story)\n",
    "\n",
    "story_removing_punctuation = ' '.join(tokens)\n",
    "print(story_removing_punctuation)"
   ]
  },
  {
   "cell_type": "code",
   "execution_count": 145,
   "id": "b8390927-5176-4730-b627-ab25ee747fd7",
   "metadata": {},
   "outputs": [
    {
     "name": "stdout",
     "output_type": "stream",
     "text": [
      "Filtered Tokens after removing stop words:\n",
      "['upon', 'time', 'village', 'Willowbrook', 'lived', 'young', 'girl', 'named', 'Elara', 'Elara', 'always', 'fascinated', 'mysterious', 'old', 'oak', 'tree', 'stood', 'edge', 'village', 'gnarled', 'branches', 'twisted', 'intricate', 'patterns', 'sky', 'trunk', 'seemed', 'hold', 'secrets', 'centuries', 'past', 'Elara', 'curiosity', 'oak', 'tree', 'deepened', 'strange', 'occurrences', 'began', 'happen', 'Willowbrook', 'People', 'whispered', 'whispered', 'voices', 'night', 'flickering', 'lights', 'dancing', 'among', 'branches', 'dreams', 'seemed', 'come', 'alive', 'tree', 'canopy', 'even', 'claimed', 'seen', 'figures', 'moving', 'among', 'shadows', 'though', 'none', 'could', 'say', 'certain', 'Determined', 'uncover', 'truth', 'Elara', 'set', 'one', 'evening', 'oak', 'tree', 'heart', 'pounding', 'excitement', 'apprehension', 'approached', 'gentle', 'breeze', 'rustled', 'leaves', 'felt', 'sense', 'anticipation', 'air', 'step', 'world', 'around', 'seemed', 'blur', 'found', 'standing', 'beneath', 'ancient', 'tree', 'towering', 'branches', 'Suddenly', 'voice', 'spoke', 'darkness', 'soft', 'melodic', 'like', 'whisper', 'wind', 'Welcome', 'Elara', 'said', 'realm', 'Oakheart', 'Startled', 'undeterred', 'Elara', 'looked', 'around', 'trying', 'locate', 'source', 'voice', 'asked', 'voice', 'trembling', 'slightly', 'guardians', 'oak', 'tree', 'voice', 'replied', 'tone', 'soothing', 'reassuring', 'watched', 'Willowbrook', 'generations', 'protecting', 'inhabitants', 'harm', 'guiding', 'times', 'need', 'Elara', 'listened', 'intently', 'guardians', 'spoke', 'tree', 'ancient', 'magic', 'bond', 'connected', 'land', 'people', 'spoke', 'balance', 'must', 'maintained', 'harmony', 'natural', 'world', 'forces', 'beyond', 'spoke', 'darkness', 'threatened', 'disrupt', 'balance', 'shadowy', 'presence', 'sought', 'destroy', 'held', 'dear', 'Determined', 'aid', 'guardians', 'quest', 'Elara', 'pledged', 'loyalty', 'cause', 'Together', 'worked', 'tirelessly', 'unravel', 'mysteries', 'oak', 'tree', 'uncover', 'source', 'darkness', 'threatened', 'home', 'Along', 'way', 'faced', 'countless', 'challenges', 'obstacles', 'trial', 'bond', 'grew', 'stronger', 'resolve', 'unshakable', 'end', 'Elara', 'courage', 'determination', 'saved', 'Willowbrook', 'encroaching', 'darkness', 'help', 'guardians', 'confronted', 'shadowy', 'presence', 'head', 'driving', 'back', 'depths', 'whence', 'came', 'first', 'light', 'dawn', 'broke', 'horizon', 'villagers', 'emerged', 'homes', 'faces', 'aglow', 'hope', 'gratitude', 'day', 'forward', 'Elara', 'hailed', 'hero', 'name', 'whispered', 'awe', 'reverence', 'throughout', 'land', 'greatest', 'reward', 'knowing', 'helped', 'protect', 'place', 'called', 'home', 'played', 'part', 'preserving', 'ancient', 'magic', 'oak', 'tree', 'generations', 'come', 'stood', 'beneath', 'branches', 'felt', 'sense', 'peace', 'belonging', 'wash', 'knowing', 'would', 'always', 'part', 'heart', 'oak']\n"
     ]
    }
   ],
   "source": [
    "stop_words = set(stopwords.words('english'))\n",
    "filtered_tokens = [word for word in tokens if word.lower() not in stop_words]\n",
    "\n",
    "print(\"Filtered Tokens after removing stop words:\")\n",
    "print(filtered_tokens)"
   ]
  },
  {
   "cell_type": "code",
   "execution_count": 146,
   "id": "fe9919e5-8900-40b0-9eff-6589482d7810",
   "metadata": {
    "scrolled": true
   },
   "outputs": [
    {
     "name": "stdout",
     "output_type": "stream",
     "text": [
      "Top 10 Most Common Words:\n",
      "Elara: 10\n",
      "tree: 9\n",
      "oak: 7\n",
      "Willowbrook: 4\n",
      "branches: 4\n",
      "voice: 4\n",
      "spoke: 4\n",
      "darkness: 4\n",
      "guardians: 4\n",
      "seemed: 3\n"
     ]
    }
   ],
   "source": [
    "fdist = FreqDist(filtered_tokens)\n",
    "print(\"Top 10 Most Common Words:\")\n",
    "for word, frequency in fdist.most_common(10):\n",
    "    print(f\"{word}: {frequency}\")"
   ]
  },
  {
   "cell_type": "code",
   "execution_count": 136,
   "id": "e52b1739-f24d-43c9-997d-1cf7c73644b7",
   "metadata": {},
   "outputs": [
    {
     "name": "stdout",
     "output_type": "stream",
     "text": [
      "The protagnist here is : Elara \n"
     ]
    }
   ],
   "source": [
    "print(\"The protagnist here is : Elara \")"
   ]
  }
 ],
 "metadata": {
  "kernelspec": {
   "display_name": "Python 3 (ipykernel)",
   "language": "python",
   "name": "python3"
  },
  "language_info": {
   "codemirror_mode": {
    "name": "ipython",
    "version": 3
   },
   "file_extension": ".py",
   "mimetype": "text/x-python",
   "name": "python",
   "nbconvert_exporter": "python",
   "pygments_lexer": "ipython3",
   "version": "3.10.0"
  }
 },
 "nbformat": 4,
 "nbformat_minor": 5
}
